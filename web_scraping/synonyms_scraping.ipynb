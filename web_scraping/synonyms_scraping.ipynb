{
  "cells": [
    {
      "cell_type": "code",
      "execution_count": null,
      "metadata": {
        "id": "duuyE-GTYpPt"
      },
      "outputs": [],
      "source": [
        "import os\n",
        "import pandas as pd\n",
        "import pyarrow as pa\n",
        "import pyarrow.parquet as pq\n",
        "from tqdm import tqdm\n",
        "from dicio import Dicio"
      ]
    },
    {
      "cell_type": "code",
      "execution_count": null,
      "metadata": {
        "id": "JU_KAIcAYs_1"
      },
      "outputs": [],
      "source": [
        "dicio = Dicio()\n",
        "vocabulary = []\n",
        "\n",
        "with open(\"vocabulary.txt\", \"r\", encoding=\"utf-8\") as f:\n",
        "    for line in f:\n",
        "        vocabulary.append(line.strip())"
      ]
    },
    {
      "cell_type": "code",
      "execution_count": null,
      "metadata": {
        "id": "FLLrOxs5YuFE"
      },
      "outputs": [],
      "source": [
        "df = pd.DataFrame(columns=['word', 'synonyms'])\n",
        "\n",
        "# Iterate over the vocabulary and get the synonyms of each word, writing them to the dataframe\n",
        "for word in tqdm(vocabulary): \n",
        "    try:\n",
        "        synonyms = [synonym.word for synonym in dicio.search(word).synonyms]\n",
        "    except:\n",
        "        continue\n",
        "\n",
        "    # Check if the word has synonyms\n",
        "    if len(synonyms) > 0:\n",
        "        df = pd.concat([df, pd.DataFrame([[word, synonyms]], columns=['word', 'synonyms'])], ignore_index=True)"
      ]
    },
    {
      "cell_type": "code",
      "execution_count": null,
      "metadata": {
        "id": "T5G4YsaV-woS"
      },
      "outputs": [],
      "source": [
        "try:\n",
        "    os.remove(\"synonyms_pt_BR.parquet\")\n",
        "except:\n",
        "    pass\n",
        "\n",
        "table = pa.Table.from_pandas(df)\n",
        "pq.write_table(table, 'synonyms_pt_BR.parquet')\n",
        "\n",
        "pd.set_option('display.max_colwidth', None)\n",
        "df"
      ]
    },
    {
      "cell_type": "code",
      "source": [
        "from google.colab import files\n",
        "files.download('synonyms_pt_BR.parquet')"
      ],
      "metadata": {
        "id": "7A4W5VU07VAp"
      },
      "execution_count": null,
      "outputs": []
    }
  ],
  "metadata": {
    "colab": {
      "provenance": [],
      "machine_shape": "hm"
    },
    "gpuClass": "standard",
    "kernelspec": {
      "display_name": "Python 3",
      "language": "python",
      "name": "python3"
    },
    "language_info": {
      "codemirror_mode": {
        "name": "ipython",
        "version": 3
      },
      "file_extension": ".py",
      "mimetype": "text/x-python",
      "name": "python",
      "nbconvert_exporter": "python",
      "pygments_lexer": "ipython3",
      "version": "3.11.1"
    },
    "vscode": {
      "interpreter": {
        "hash": "4b00e70151b755bc02f6db254d67e0fdf553933eac08d0aa5854548684a01361"
      }
    }
  },
  "nbformat": 4,
  "nbformat_minor": 0
}